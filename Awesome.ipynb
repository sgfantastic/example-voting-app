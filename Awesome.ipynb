{
  "cells": [
    {
      "cell_type": "markdown",
      "metadata": {
        "id": "view-in-github",
        "colab_type": "text"
      },
      "source": [
        "<a href=\"https://colab.research.google.com/github/sgfantastic/example-voting-app/blob/master/Awesome.ipynb\" target=\"_parent\"><img src=\"https://colab.research.google.com/assets/colab-badge.svg\" alt=\"Open In Colab\"/></a>"
      ]
    },
    {
      "cell_type": "code",
      "execution_count": null,
      "metadata": {
        "colab": {
          "base_uri": "https://localhost:8080/"
        },
        "id": "15rrcvFqVR1A",
        "outputId": "797af967-cd2d-4e74-bc46-729bf695bc96"
      },
      "outputs": [
        {
          "data": {
            "text/plain": [
              "9"
            ]
          },
          "execution_count": 1,
          "metadata": {},
          "output_type": "execute_result"
        }
      ],
      "source": [
        "9 + 0\n"
      ]
    },
    {
      "cell_type": "code",
      "execution_count": null,
      "metadata": {
        "colab": {
          "base_uri": "https://localhost:8080/"
        },
        "id": "PKcCGQp8WSCf",
        "outputId": "458f5304-9a05-4f2f-f5c9-c9106179e1f4"
      },
      "outputs": [
        {
          "name": "stdout",
          "output_type": "stream",
          "text": [
            "Variable   Type     Data/Info\n",
            "-----------------------------\n",
            "x          int      7\n",
            "y          float    9.9\n"
          ]
        }
      ],
      "source": [
        "x =7\n",
        "y = 9.9\n",
        "%whos"
      ]
    },
    {
      "cell_type": "code",
      "execution_count": null,
      "metadata": {
        "colab": {
          "base_uri": "https://localhost:8080/"
        },
        "id": "AO_klvr_Vn1b",
        "outputId": "8a2c7d62-edfd-4776-acdc-30e50acfabbf"
      },
      "outputs": [
        {
          "name": "stdout",
          "output_type": "stream",
          "text": [
            "115.9\n",
            "whats the number88\n",
            "88.0\n"
          ]
        }
      ],
      "source": [
        "c = x+ y + 99\n",
        "print(c)\n",
        "4/9\n",
        "3**8\n",
        "k = input(\"whats the number\")\n",
        "print(float(k))\n"
      ]
    },
    {
      "cell_type": "markdown",
      "metadata": {
        "id": "JEWGXOvsj6wU"
      },
      "source": [
        "learning Lists"
      ]
    },
    {
      "cell_type": "code",
      "execution_count": null,
      "metadata": {
        "colab": {
          "base_uri": "https://localhost:8080/"
        },
        "id": "eg8tIBybkARG",
        "outputId": "e9dcfefd-3719-4230-a3cb-19464c4239ab"
      },
      "outputs": [
        {
          "name": "stdout",
          "output_type": "stream",
          "text": [
            "Variable   Type     Data/Info\n",
            "-----------------------------\n",
            "alist      list     n=3\n",
            "c          float    115.9\n",
            "k          str      88\n",
            "x          int      7\n",
            "y          float    9.9\n"
          ]
        }
      ],
      "source": [
        "alist = [1,4,9]\n",
        "%whos"
      ]
    },
    {
      "cell_type": "code",
      "execution_count": null,
      "metadata": {
        "id": "K0yWT4saAQbw"
      },
      "outputs": [],
      "source": []
    },
    {
      "cell_type": "code",
      "execution_count": null,
      "metadata": {
        "colab": {
          "base_uri": "https://localhost:8080/",
          "height": 158
        },
        "id": "3AgtDpX_kBsK",
        "outputId": "d86f40a2-8741-4365-e478-80f83e5051bb"
      },
      "outputs": [
        {
          "ename": "TypeError",
          "evalue": "'tuple' object does not support item assignment",
          "output_type": "error",
          "traceback": [
            "\u001b[0;31m---------------------------------------------------------------------------\u001b[0m",
            "\u001b[0;31mTypeError\u001b[0m                                 Traceback (most recent call last)",
            "\u001b[0;32m<ipython-input-16-3a6820b5f780>\u001b[0m in \u001b[0;36m<cell line: 2>\u001b[0;34m()\u001b[0m\n\u001b[1;32m      1\u001b[0m \u001b[0matuple\u001b[0m \u001b[0;34m=\u001b[0m \u001b[0;34m(\u001b[0m\u001b[0;36m9\u001b[0m\u001b[0;34m,\u001b[0m\u001b[0;36m9\u001b[0m\u001b[0;34m,\u001b[0m\u001b[0;36m8\u001b[0m\u001b[0;34m)\u001b[0m\u001b[0;34m\u001b[0m\u001b[0;34m\u001b[0m\u001b[0m\n\u001b[0;32m----> 2\u001b[0;31m \u001b[0matuple\u001b[0m\u001b[0;34m[\u001b[0m\u001b[0;36m0\u001b[0m\u001b[0;34m]\u001b[0m \u001b[0;34m=\u001b[0m \u001b[0;36m99\u001b[0m\u001b[0;34m\u001b[0m\u001b[0;34m\u001b[0m\u001b[0m\n\u001b[0m",
            "\u001b[0;31mTypeError\u001b[0m: 'tuple' object does not support item assignment"
          ]
        }
      ],
      "source": [
        "atuple = (9,9,8)\n",
        "atuple[0] = 99\n"
      ]
    },
    {
      "cell_type": "code",
      "execution_count": null,
      "metadata": {
        "colab": {
          "base_uri": "https://localhost:8080/"
        },
        "id": "UG8Id1XewW0A",
        "outputId": "26dbf046-777e-4e64-95e9-01604d04dfa1"
      },
      "outputs": [
        {
          "name": "stdout",
          "output_type": "stream",
          "text": [
            "[9, 10, 11, 12, 13, 14]\n"
          ]
        },
        {
          "data": {
            "text/plain": [
              "[9, 11, 13]"
            ]
          },
          "execution_count": 27,
          "metadata": {},
          "output_type": "execute_result"
        }
      ],
      "source": [
        "adict = {'name': 'farhan', 'agerange':[20,50]}\n",
        "adict.keys()\n",
        "#indexing yo\n",
        "arange = range(9)\n",
        "sx = list(arange)\n",
        "sx\n",
        "ys = list(range(9,15))\n",
        "print(ys)\n",
        "ys[::2]"
      ]
    },
    {
      "cell_type": "code",
      "execution_count": null,
      "metadata": {
        "colab": {
          "background_save": true
        },
        "id": "yFW3AeeQAS0P"
      },
      "outputs": [],
      "source": [
        "stock_prices = [('apple',300),('msft',990)]"
      ]
    },
    {
      "cell_type": "code",
      "source": [
        "import sympy as sym\n",
        "sym.init_printing()\n",
        "sym.sqrt(2)\n"
      ],
      "metadata": {
        "colab": {
          "base_uri": "https://localhost:8080/",
          "height": 38
        },
        "id": "iCgWqgCgg4Bw",
        "outputId": "e0c0b013-226a-490a-fb1d-15ef51360d17"
      },
      "execution_count": 2,
      "outputs": [
        {
          "output_type": "execute_result",
          "data": {
            "text/plain": [
              "√2"
            ],
            "text/latex": "$\\displaystyle \\sqrt{2}$"
          },
          "metadata": {},
          "execution_count": 2
        }
      ]
    },
    {
      "cell_type": "code",
      "source": [
        "import sympy as sym\n",
        "import numpy as np\n",
        "sym.init_printing()\n",
        "from IPython.display import display,Math\n",
        "x,y = sym.symbols('x,y')\n",
        "mu,alpha, sigma = sym.symbols('mu,alpha,sigma')\n",
        "display(sym.sqrt(x) * sym.sqrt(y))\n",
        "display(sym.sqrt(4) * sym.sqrt(x))\n",
        "expr = sym.exp((mu-alpha)**2 / (2*sigma**2))\n",
        "display(expr)"
      ],
      "metadata": {
        "colab": {
          "base_uri": "https://localhost:8080/",
          "height": 87
        },
        "id": "81mDe7wkhFhF",
        "outputId": "3f9e6f30-75fe-48ef-838e-98a5d39c3a6e"
      },
      "execution_count": 1,
      "outputs": [
        {
          "output_type": "display_data",
          "data": {
            "text/plain": [
              "√x⋅√y"
            ],
            "text/latex": "$\\displaystyle \\sqrt{x} \\sqrt{y}$"
          },
          "metadata": {}
        },
        {
          "output_type": "display_data",
          "data": {
            "text/plain": [
              "2⋅√x"
            ],
            "text/latex": "$\\displaystyle 2 \\sqrt{x}$"
          },
          "metadata": {}
        },
        {
          "output_type": "display_data",
          "data": {
            "text/plain": [
              "         2\n",
              " (-α + μ) \n",
              " ─────────\n",
              "       2  \n",
              "    2⋅σ   \n",
              "ℯ         "
            ],
            "text/latex": "$\\displaystyle e^{\\frac{\\left(- \\alpha + \\mu\\right)^{2}}{2 \\sigma^{2}}}$"
          },
          "metadata": {}
        }
      ]
    },
    {
      "cell_type": "code",
      "source": [
        "expr = x + 99\n",
        "expr.subs(x,9)"
      ],
      "metadata": {
        "colab": {
          "base_uri": "https://localhost:8080/",
          "height": 37
        },
        "id": "5-x-NNqScPwU",
        "outputId": "36ced300-2894-48b5-ab01-3ec693d16b23"
      },
      "execution_count": 2,
      "outputs": [
        {
          "output_type": "execute_result",
          "data": {
            "text/plain": [
              "108"
            ],
            "text/latex": "$\\displaystyle 108$"
          },
          "metadata": {},
          "execution_count": 2
        }
      ]
    },
    {
      "cell_type": "code",
      "source": [
        "expr = x**2 + 4\n",
        "display(Math('with x=-2, x ^ 2+4 \\\\quad \\\\rightarrow \\\\quad -2 ^2+4 = 8'))\n",
        "\n"
      ],
      "metadata": {
        "colab": {
          "base_uri": "https://localhost:8080/",
          "height": 39
        },
        "id": "4QrgkE60ckw7",
        "outputId": "61c12064-a459-45ad-9d58-b29da3ee2cf3"
      },
      "execution_count": 3,
      "outputs": [
        {
          "output_type": "display_data",
          "data": {
            "text/plain": [
              "<IPython.core.display.Math object>"
            ],
            "text/latex": "$\\displaystyle with x=-2, x ^ 2+4 \\quad \\rightarrow \\quad -2 ^2+4 = 8$"
          },
          "metadata": {}
        }
      ]
    },
    {
      "cell_type": "code",
      "source": [
        "def locate_cards(cards, query):\n",
        "  pass\n",
        "\n",
        "result = locate_cards(cards,query)\n",
        "cards = [13,11,10,7,4,3,1,0]\n",
        "query = 7\n",
        "output = 3"
      ],
      "metadata": {
        "id": "xbWBMU3Ju9wt"
      },
      "execution_count": 4,
      "outputs": []
    },
    {
      "cell_type": "markdown",
      "source": [],
      "metadata": {
        "id": "810B4FA6u-Kg"
      }
    }
  ],
  "metadata": {
    "colab": {
      "provenance": [],
      "authorship_tag": "ABX9TyP3fr4RIbx+qPb5M8/hqsXJ",
      "include_colab_link": true
    },
    "kernelspec": {
      "display_name": "Python 3",
      "name": "python3"
    },
    "language_info": {
      "name": "python"
    }
  },
  "nbformat": 4,
  "nbformat_minor": 0
}